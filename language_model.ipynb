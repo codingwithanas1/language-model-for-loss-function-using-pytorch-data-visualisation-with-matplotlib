{
 "cells": [
  {
   "cell_type": "code",
   "execution_count": 1,
   "id": "5d8f2eae-a218-42e7-ae8d-070c330470fd",
   "metadata": {},
   "outputs": [],
   "source": [
    "import numpy as np\n",
    "import torch\n",
    "import torch.nn as nn\n",
    "import torch.optim as optim\n",
    "import matplotlib.pyplot as plt"
   ]
  },
  {
   "cell_type": "code",
   "execution_count": 2,
   "id": "74f30b5c-c1fe-433d-928e-67f51cdfdc5b",
   "metadata": {},
   "outputs": [],
   "source": [
    "#documents loading\n",
    "corpus = [\"earth jupyter planet\", \"jupyter earth planet\", \"planet earth jupyter\",\n",
    "          \"orange strawberry fruit\", \"strawberry orange fruit\", \"fruit orange strawberry\"]"
   ]
  },
  {
   "cell_type": "code",
   "execution_count": 3,
   "id": "0032049b-2cb7-4e76-89d7-24932f821e47",
   "metadata": {},
   "outputs": [
    {
     "name": "stdout",
     "output_type": "stream",
     "text": [
      "[['earth', 'jupyter', 'planet'], ['jupyter', 'earth', 'planet'], ['planet', 'earth', 'jupyter'], ['orange', 'strawberry', 'fruit'], ['strawberry', 'orange', 'fruit'], ['fruit', 'orange', 'strawberry']]\n"
     ]
    }
   ],
   "source": [
    "# tokenization\n",
    "tokenized_corpus = [sent.split(\" \") for sent in corpus]\n",
    "print(tokenized_corpus)"
   ]
  },
  {
   "cell_type": "code",
   "execution_count": 4,
   "id": "5b9e4647-0bbe-41db-a062-1658454a885b",
   "metadata": {},
   "outputs": [
    {
     "name": "stdout",
     "output_type": "stream",
     "text": [
      "['orange', 'strawberry', 'jupyter', 'earth', 'planet', 'fruit']\n"
     ]
    }
   ],
   "source": [
    "# numeralization\n",
    "flatten = lambda l: [item for sublist in l for item in sublist]\n",
    "flatten(tokenized_corpus)\n",
    "unique_words = list(set(flatten(tokenized_corpus)))\n",
    "print(unique_words)"
   ]
  },
  {
   "cell_type": "code",
   "execution_count": 5,
   "id": "a09f7caf-c5bd-432b-810c-3ab46439f59a",
   "metadata": {},
   "outputs": [
    {
     "data": {
      "text/plain": [
       "2"
      ]
     },
     "execution_count": 5,
     "metadata": {},
     "output_type": "execute_result"
    }
   ],
   "source": [
    "#mapping between words and index\n",
    "word2index= {v:idx for idx, v in enumerate(unique_words)}\n",
    "word2index['jupyter']"
   ]
  },
  {
   "cell_type": "code",
   "execution_count": 6,
   "id": "eca67013-7de7-45ff-b6f7-faffaf720637",
   "metadata": {},
   "outputs": [],
   "source": [
    "unique_words.append('<UNK>')\n",
    "word2index['<UNK>'] = 6"
   ]
  },
  {
   "cell_type": "code",
   "execution_count": 7,
   "id": "d8157734-49a8-40d4-9f50-46482e144acb",
   "metadata": {},
   "outputs": [
    {
     "data": {
      "text/plain": [
       "{0: 'orange',\n",
       " 1: 'strawberry',\n",
       " 2: 'jupyter',\n",
       " 3: 'earth',\n",
       " 4: 'planet',\n",
       " 5: 'fruit',\n",
       " 6: '<UNK>'}"
      ]
     },
     "execution_count": 7,
     "metadata": {},
     "output_type": "execute_result"
    }
   ],
   "source": [
    "#mapping index to words\n",
    "index2word = {v:k for k,v in word2index.items()}\n",
    "index2word"
   ]
  },
  {
   "cell_type": "code",
   "execution_count": 8,
   "id": "3b5dae06-40dd-4dad-9ee8-5acdbce1c61e",
   "metadata": {},
   "outputs": [],
   "source": [
    "#preparing data \n",
    "import numpy as np\n",
    "\n",
    "def random_batch(batch_size, corpus):\n",
    "    skipgrams = []\n",
    "    \n",
    "    #loop each corpus\n",
    "    for doc in tokenized_corpus:\n",
    "        #loop each document\n",
    "        for i in range(1, len(doc)-1):\n",
    "            #center word\n",
    "            center = word2index[doc[i]]\n",
    "            #outside words 2\n",
    "            outside_words = (word2index[doc[i-1]], word2index[doc[i+1]])\n",
    "            #we append each of the outside words to a list\n",
    "            for each_out in outside_words:\n",
    "                skipgrams.append([center, each_out])\n",
    "                #center1->outside1; center2->outside2\n",
    "    random_index = np.random.choice(range(len(skipgrams)), batch_size, replace=False)\n",
    "    inputs, labels = [],[]\n",
    "    for index in random_index:\n",
    "        inputs.append([skipgrams[index][0]])\n",
    "        labels.append([skipgrams[index][1]])\n",
    "\n",
    "    return np.array(inputs), np.array(labels)\n",
    "x,y = random_batch(2,tokenized_corpus)"
   ]
  },
  {
   "cell_type": "code",
   "execution_count": 9,
   "id": "1acc6dda-8a2e-4207-946e-50e43fda348e",
   "metadata": {},
   "outputs": [],
   "source": [
    "embedding = nn.Embedding(7,2)"
   ]
  },
  {
   "cell_type": "code",
   "execution_count": 10,
   "id": "b397036b-5e03-437f-af87-4b7e413a8d6e",
   "metadata": {},
   "outputs": [
    {
     "data": {
      "text/plain": [
       "torch.Size([2, 1, 2])"
      ]
     },
     "execution_count": 10,
     "metadata": {},
     "output_type": "execute_result"
    }
   ],
   "source": [
    "x_tensor = torch.LongTensor(x)\n",
    "embedding(x_tensor).shape #(batch_size,1,emb_size)"
   ]
  },
  {
   "cell_type": "code",
   "execution_count": 11,
   "id": "8a4f1ee5-3f48-44ed-b33c-8877ff58503f",
   "metadata": {},
   "outputs": [],
   "source": [
    "#now we will focus on creating the model\n",
    "class Skipgram(nn.Module):\n",
    "    def __init__(self, voc_size, emb_size):\n",
    "        super(Skipgram, self).__init__()\n",
    "        self.embedding_center = nn.Embedding(voc_size, emb_size)\n",
    "        self.embedding_outside = nn.Embedding(voc_size, emb_size)\n",
    "    \n",
    "    def forward(self, center, outside, all_vocabs):\n",
    "        center_vector = self.embedding_center(center)  # (batch_size, 1, emb_size)\n",
    "        outside_vector = self.embedding_outside(outside)  # (batch_size, 1, emb_size)\n",
    "        vocabulary_vector = self.embedding_center(all_vocabs)  # (batch_size, vocabulary_size, emb_size)\n",
    "        \n",
    "        top_term = torch.exp(torch.bmm(outside_vector, center_vector.transpose(1, 2)).squeeze(2))\n",
    "        # (batch_size, 1, emb_size) @ (batch_size, emb_size, 1) = (batch_size, 1, 1) = (batch_size, 1)\n",
    "        \n",
    "        lower_term = torch.bmm(vocabulary_vector, center_vector.transpose(1, 2)).squeeze(2)\n",
    "        # (batch_size, voc_size, emb_size) @ (batch_size, emb_size, 1) = (batch_size, voc_size, 1) = (batch_size, voc_size)\n",
    "        \n",
    "        lower_term_sum = torch.sum(torch.exp(lower_term), dim=1)  # (batch_size, 1)\n",
    "        \n",
    "        loss_function = -torch.mean(torch.log(top_term / lower_term_sum))\n",
    "        return loss_function"
   ]
  },
  {
   "cell_type": "code",
   "execution_count": 12,
   "id": "7dfc8474-d1d9-40e9-bf4f-f1544d9676c1",
   "metadata": {},
   "outputs": [
    {
     "data": {
      "text/plain": [
       "tensor([[0, 1, 2, 3, 4, 5, 6],\n",
       "        [0, 1, 2, 3, 4, 5, 6]])"
      ]
     },
     "execution_count": 12,
     "metadata": {},
     "output_type": "execute_result"
    }
   ],
   "source": [
    "#preparing all vocabs\n",
    "batch_size = 2\n",
    "voc_size   = len(unique_words)\n",
    "def prepare_sequence(seq, word2index):\n",
    "    indexes = list(map(lambda w: word2index[w] if word2index.get(w) is not None else word2index[\"<UNK>\"], seq))\n",
    "    return torch.LongTensor(indexes)\n",
    "all_vocabs = prepare_sequence(list(unique_words), word2index).expand(batch_size, voc_size)\n",
    "all_vocabs"
   ]
  },
  {
   "cell_type": "code",
   "execution_count": 13,
   "id": "41b90288-1b37-429c-9d4f-6f3cf0da0332",
   "metadata": {},
   "outputs": [
    {
     "data": {
      "text/plain": [
       "Skipgram(\n",
       "  (embedding_center): Embedding(7, 2)\n",
       "  (embedding_outside): Embedding(7, 2)\n",
       ")"
      ]
     },
     "execution_count": 13,
     "metadata": {},
     "output_type": "execute_result"
    }
   ],
   "source": [
    "model = Skipgram(voc_size, 2)\n",
    "model"
   ]
  },
  {
   "cell_type": "code",
   "execution_count": 14,
   "id": "6a84a219-f21f-47b8-8344-0594c040af47",
   "metadata": {},
   "outputs": [],
   "source": [
    "#turning dimensions x and y into pytorch tensors\n",
    "input_tensor = torch.LongTensor(x)\n",
    "label_tensor = torch.LongTensor(y)"
   ]
  },
  {
   "cell_type": "code",
   "execution_count": 15,
   "id": "d8d34a2a-a6cc-4bf2-a390-10230588142c",
   "metadata": {},
   "outputs": [],
   "source": [
    "loss = model(input_tensor, label_tensor, all_vocabs)\n"
   ]
  },
  {
   "cell_type": "code",
   "execution_count": 16,
   "id": "472221b1-e7ce-4216-94e2-d755b2ed0b4c",
   "metadata": {},
   "outputs": [
    {
     "data": {
      "text/plain": [
       "tensor(2.6971, grad_fn=<NegBackward0>)"
      ]
     },
     "execution_count": 16,
     "metadata": {},
     "output_type": "execute_result"
    }
   ],
   "source": [
    "loss\n",
    "#whith each entire code re execution, we get a lower the loss value, and this is what we want, to minimise the loss function output"
   ]
  },
  {
   "cell_type": "code",
   "execution_count": 17,
   "id": "d85a108f-3e53-4ccb-843c-2703c8e9d3a8",
   "metadata": {},
   "outputs": [],
   "source": [
    "#now let's dive in to training the data\n",
    "\n",
    "import torch.optim as optim\n"
   ]
  },
  {
   "cell_type": "code",
   "execution_count": 18,
   "id": "80e11956-b227-40c1-9cc6-b9fc63a01d3d",
   "metadata": {},
   "outputs": [],
   "source": [
    "batch_size = 2\n",
    "emb_size = 2\n",
    "model = Skipgram(voc_size,emb_size)\n",
    "optimizer = optim.Adam(model.parameters(), lr=0.001)"
   ]
  },
  {
   "cell_type": "code",
   "execution_count": 19,
   "id": "6c63815f-d705-4ac6-b37e-90d754a729cd",
   "metadata": {},
   "outputs": [
    {
     "name": "stdout",
     "output_type": "stream",
     "text": [
      "Epoch  1000  \\ Loss:2.153620\n",
      "Epoch  2000  \\ Loss:0.330096\n",
      "Epoch  3000  \\ Loss:-1.166875\n",
      "Epoch  4000  \\ Loss:-2.535463\n",
      "Epoch  5000  \\ Loss:-4.397332\n"
     ]
    }
   ],
   "source": [
    "num_epochs = 5000\n",
    "for epoch in range(num_epochs):\n",
    "\n",
    "    #get batch\n",
    "    input_batch, label_batch =  random_batch(batch_size, tokenized_corpus)\n",
    "    input_tensor = torch.LongTensor(input_batch)\n",
    "    label_tensor = torch.LongTensor(label_batch)\n",
    "    #predict\n",
    "    loss = model(input_tensor, label_tensor, all_vocabs)\n",
    "    #backpropegate\n",
    "    optimizer.zero_grad()\n",
    "    loss.backward()\n",
    "    #update aplpha\n",
    "    optimizer.step()\n",
    "    #print the loss\n",
    "    if(epoch+1)%1000 ==0:\n",
    "        print(f\"Epoch{epoch+1:6.0f}  \\\\ Loss:{loss:2.6f}\")\n",
    "        "
   ]
  },
  {
   "cell_type": "code",
   "execution_count": 20,
   "id": "51a19dd7-7b08-4981-aef1-ea5612de99c3",
   "metadata": {},
   "outputs": [
    {
     "data": {
      "text/plain": [
       "tensor([2])"
      ]
     },
     "execution_count": 20,
     "metadata": {},
     "output_type": "execute_result"
    }
   ],
   "source": [
    "# now let's dive in to Plot the embeddings(data visualisation using MatPlotLib\n",
    "jupyter = torch.LongTensor([word2index['jupyter']])\n",
    "jupyter"
   ]
  },
  {
   "cell_type": "code",
   "execution_count": 21,
   "id": "71b4c1f2-77b5-4288-903e-861d0d153647",
   "metadata": {},
   "outputs": [
    {
     "data": {
      "text/plain": [
       "tensor([[ 1.8283, -1.3406]], grad_fn=<DivBackward0>)"
      ]
     },
     "execution_count": 21,
     "metadata": {},
     "output_type": "execute_result"
    }
   ],
   "source": [
    "jup_embed_c = model.embedding_center(jupyter)\n",
    "jup_embed_o = model.embedding_outside(jupyter)\n",
    "jup_embed = (jup_embed_c+jup_embed_o)/2\n",
    "jup_embed"
   ]
  },
  {
   "cell_type": "code",
   "execution_count": 22,
   "id": "254893aa-cf8b-4654-8adc-305661ca576f",
   "metadata": {},
   "outputs": [],
   "source": [
    "def get_embed(word):\n",
    "    try:\n",
    "        index = word2index[word]\n",
    "    except:\n",
    "        index = word2index['<UNK>']\n",
    "        \n",
    "    word = torch.LongTensor([word2index[word]])\n",
    "    \n",
    "    embed_c = model.embedding_center(word)\n",
    "    embed_o = model.embedding_outside(word)\n",
    "    embed   = (embed_c + embed_o) / 2\n",
    "    \n",
    "    return embed[0][0].item(), embed[0][1].item()"
   ]
  },
  {
   "cell_type": "code",
   "execution_count": 23,
   "id": "ce4da001-ee99-4036-88fc-a0b1e22a0c65",
   "metadata": {},
   "outputs": [
    {
     "data": {
      "text/plain": [
       "(2.405651569366455, 1.3245247602462769)"
      ]
     },
     "execution_count": 23,
     "metadata": {},
     "output_type": "execute_result"
    }
   ],
   "source": [
    "get_embed('strawberry')"
   ]
  },
  {
   "cell_type": "code",
   "execution_count": 24,
   "id": "85e63c06-58d8-4083-b1f3-d4a0f40b51e9",
   "metadata": {},
   "outputs": [
    {
     "data": {
      "text/plain": [
       "(0.2755765914916992, -1.1650171279907227)"
      ]
     },
     "execution_count": 24,
     "metadata": {},
     "output_type": "execute_result"
    }
   ],
   "source": [
    "get_embed('planet')"
   ]
  },
  {
   "cell_type": "code",
   "execution_count": 25,
   "id": "2b8c98a2-6927-44d2-b6a8-3048df3caccb",
   "metadata": {},
   "outputs": [
    {
     "data": {
      "text/plain": [
       "(2.355323314666748, 1.2386054992675781)"
      ]
     },
     "execution_count": 25,
     "metadata": {},
     "output_type": "execute_result"
    }
   ],
   "source": [
    "get_embed('orange')"
   ]
  },
  {
   "cell_type": "code",
   "execution_count": 26,
   "id": "e8dbd140-e646-4c11-9642-04e901de28dd",
   "metadata": {},
   "outputs": [
    {
     "data": {
      "text/plain": [
       "(1.8282634019851685, -1.3406076431274414)"
      ]
     },
     "execution_count": 26,
     "metadata": {},
     "output_type": "execute_result"
    }
   ],
   "source": [
    "get_embed('jupyter')"
   ]
  },
  {
   "cell_type": "code",
   "execution_count": 27,
   "id": "b1b6aba6-ffcd-485f-8cc9-a6dec573d7d7",
   "metadata": {},
   "outputs": [
    {
     "data": {
      "text/plain": [
       "(1.953340768814087, -2.6598598957061768)"
      ]
     },
     "execution_count": 27,
     "metadata": {},
     "output_type": "execute_result"
    }
   ],
   "source": [
    "get_embed('earth')"
   ]
  },
  {
   "cell_type": "code",
   "execution_count": 28,
   "id": "26524f2a-8588-42ff-aaf6-c0d38cb17de8",
   "metadata": {},
   "outputs": [
    {
     "data": {
      "text/plain": [
       "(0.2755765914916992, -1.1650171279907227)"
      ]
     },
     "execution_count": 28,
     "metadata": {},
     "output_type": "execute_result"
    }
   ],
   "source": [
    "get_embed('planet')"
   ]
  },
  {
   "cell_type": "code",
   "execution_count": 29,
   "id": "fa7af9ed-cf7a-407a-9feb-65c10ed440ec",
   "metadata": {},
   "outputs": [
    {
     "data": {
      "image/png": "[encoded data removed]",
      "text/plain": [
       "<Figure size 600x300 with 1 Axes>"
      ]
     },
     "metadata": {},
     "output_type": "display_data"
    }
   ],
   "source": [
    "plt.figure(figsize=(6, 3))\n",
    "for i, word in enumerate(unique_words):\n",
    "    x, y = get_embed(word)\n",
    "    plt.scatter(x, y)\n",
    "    plt.annotate(word, xy=(x, y), xytext=(5, 2), textcoords='offset points')\n",
    "plt.show()"
   ]
  },
  {
   "cell_type": "code",
   "execution_count": 30,
   "id": "510acb1b-da5b-47e2-a1c6-97e6c629be29",
   "metadata": {},
   "outputs": [
    {
     "data": {
      "text/plain": [
       "(1.953340768814087, -2.6598598957061768)"
      ]
     },
     "execution_count": 30,
     "metadata": {},
     "output_type": "execute_result"
    }
   ],
   "source": [
    "earth = get_embed('earth')\n",
    "earth"
   ]
  },
  {
   "cell_type": "code",
   "execution_count": 31,
   "id": "bd8dec79-7b6b-47e2-a0a2-d028a28ca592",
   "metadata": {},
   "outputs": [
    {
     "data": {
      "text/plain": [
       "(-1.2798641920089722, 0.3757193684577942)"
      ]
     },
     "execution_count": 31,
     "metadata": {},
     "output_type": "execute_result"
    }
   ],
   "source": [
    "unk = get_embed('<UNK>')\n",
    "unk"
   ]
  },
  {
   "cell_type": "code",
   "execution_count": 32,
   "id": "d41b2567-967a-4d90-bf31-ad59bf2f06ef",
   "metadata": {},
   "outputs": [
    {
     "data": {
      "text/plain": [
       "-3.499371784997365"
      ]
     },
     "execution_count": 32,
     "metadata": {},
     "output_type": "execute_result"
    }
   ],
   "source": [
    "np.array(earth) @ np.array(unk)"
   ]
  },
  {
   "cell_type": "code",
   "execution_count": 33,
   "id": "bf03bfad-e2c2-45f6-9f84-c332314665ff",
   "metadata": {},
   "outputs": [],
   "source": [
    "planet = get_embed('planet')"
   ]
  },
  {
   "cell_type": "code",
   "execution_count": 34,
   "id": "4623a29e-4934-4ad5-be7c-c1d39a5e5acd",
   "metadata": {},
   "outputs": [
    {
     "name": "stdout",
     "output_type": "stream",
     "text": [
      "-0.7949755383332616\n",
      "0.9206110985478353\n"
     ]
    }
   ],
   "source": [
    "def cosine_similarity(A, B):\n",
    "    dot_product = np.dot(A, B)\n",
    "    norm_a = np.linalg.norm(A)\n",
    "    norm_b = np.linalg.norm(B)\n",
    "    similarity = dot_product / (norm_a * norm_b)\n",
    "    return similarity\n",
    "\n",
    "print(cosine_similarity(np.array(earth), np.array(unk)))\n",
    "print(cosine_similarity(np.array(earth), np.array(planet)))"
   ]
  }
 ],
 "metadata": {
  "kernelspec": {
   "display_name": "Python 3 (ipykernel)",
   "language": "python",
   "name": "python3"
  },
  "language_info": {
   "codemirror_mode": {
    "name": "ipython",
    "version": 3
   },
   "file_extension": ".py",
   "mimetype": "text/x-python",
   "name": "python",
   "nbconvert_exporter": "python",
   "pygments_lexer": "ipython3",
   "version": "3.12.3"
  }
 },
 "nbformat": 4,
 "nbformat_minor": 5
}
